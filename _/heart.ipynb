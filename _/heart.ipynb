{
 "cells": [
  {
   "cell_type": "markdown",
   "metadata": {},
   "source": [
    "# TensorCox\n",
    "- example script to apply for a CSV file."
   ]
  },
  {
   "cell_type": "markdown",
   "metadata": {},
   "source": [
    "## Load modules:\n",
    "\n",
    "- Core dependency: \n",
    "    numpy, torch"
   ]
  },
  {
   "cell_type": "code",
   "execution_count": 1,
   "metadata": {},
   "outputs": [],
   "source": [
    "# import the necessary modules\n",
    "import sys\n",
    "import os\n",
    "import torch\n",
    "import tqdm\n",
    "\n",
    "import pandas as pd\n",
    "import numpy as np\n",
    "import matplotlib.pyplot as plt \n",
    "\n",
    "from torch.utils.data import DataLoader\n",
    "from sklearn.model_selection import KFold #\n",
    "\n",
    "# set root directory\n",
    "# path to the folder\n",
    "dir_root = '/nfs/nobackup/gerstung/awj/projects/TensorCox_/'\n",
    "os.chdir(dir_root)\n",
    "\n",
    "# appends the path to the COX script \n",
    "sys.path.append(dir_root + 'TensorCox/')\n",
    "\n",
    "# import COX model\n",
    "from TensorCox import loglikelihood\n",
    "from TensorCox import Fisher\n",
    "from metrics import concordance\n",
    "from metrics import RMSE\n",
    "from dataloader import CSV_Dataset\n",
    "from dataloader import ToTensor\n",
    "from dataloader import custom_collate\n",
    "\n",
    "torch.manual_seed(7)\n",
    "np.random.seed(7)"
   ]
  },
  {
   "cell_type": "markdown",
   "metadata": {},
   "source": [
    "## Data:\n",
    "\n",
    "- usually this is not how you would process your data. (but since this is just a small csv file...) \n",
    "- the standard approch is to use a dataloader object (handels preprocessing and distributes the data loading over processes).\n",
    "- see https://pytorch.org/docs/stable/data.html\n",
    "- the data need to be standardized (can lead to numerical instabillity otherwise - Nan or Inf) \n",
    "\n",
    "- usually we have a surv file (numpy array Nx3 - start, stop, event) - this is to handle time-dependent covariates. "
   ]
  },
  {
   "cell_type": "code",
   "execution_count": 2,
   "metadata": {},
   "outputs": [
    {
     "data": {
      "text/html": [
       "<div>\n",
       "<style scoped>\n",
       "    .dataframe tbody tr th:only-of-type {\n",
       "        vertical-align: middle;\n",
       "    }\n",
       "\n",
       "    .dataframe tbody tr th {\n",
       "        vertical-align: top;\n",
       "    }\n",
       "\n",
       "    .dataframe thead th {\n",
       "        text-align: right;\n",
       "    }\n",
       "</style>\n",
       "<table border=\"1\" class=\"dataframe\">\n",
       "  <thead>\n",
       "    <tr style=\"text-align: right;\">\n",
       "      <th></th>\n",
       "      <th>start</th>\n",
       "      <th>stop</th>\n",
       "      <th>event</th>\n",
       "      <th>age</th>\n",
       "      <th>year</th>\n",
       "      <th>surgery</th>\n",
       "      <th>transplant</th>\n",
       "    </tr>\n",
       "  </thead>\n",
       "  <tbody>\n",
       "    <tr>\n",
       "      <th>0</th>\n",
       "      <td>0.0</td>\n",
       "      <td>50.0</td>\n",
       "      <td>1</td>\n",
       "      <td>-17.155373</td>\n",
       "      <td>0.123203</td>\n",
       "      <td>0</td>\n",
       "      <td>0</td>\n",
       "    </tr>\n",
       "    <tr>\n",
       "      <th>1</th>\n",
       "      <td>0.0</td>\n",
       "      <td>6.0</td>\n",
       "      <td>1</td>\n",
       "      <td>3.835729</td>\n",
       "      <td>0.254620</td>\n",
       "      <td>0</td>\n",
       "      <td>0</td>\n",
       "    </tr>\n",
       "    <tr>\n",
       "      <th>2</th>\n",
       "      <td>0.0</td>\n",
       "      <td>1.0</td>\n",
       "      <td>0</td>\n",
       "      <td>6.297057</td>\n",
       "      <td>0.265572</td>\n",
       "      <td>0</td>\n",
       "      <td>0</td>\n",
       "    </tr>\n",
       "    <tr>\n",
       "      <th>3</th>\n",
       "      <td>1.0</td>\n",
       "      <td>16.0</td>\n",
       "      <td>1</td>\n",
       "      <td>6.297057</td>\n",
       "      <td>0.265572</td>\n",
       "      <td>0</td>\n",
       "      <td>1</td>\n",
       "    </tr>\n",
       "    <tr>\n",
       "      <th>4</th>\n",
       "      <td>0.0</td>\n",
       "      <td>36.0</td>\n",
       "      <td>0</td>\n",
       "      <td>-7.737166</td>\n",
       "      <td>0.490075</td>\n",
       "      <td>0</td>\n",
       "      <td>0</td>\n",
       "    </tr>\n",
       "    <tr>\n",
       "      <th>...</th>\n",
       "      <td>...</td>\n",
       "      <td>...</td>\n",
       "      <td>...</td>\n",
       "      <td>...</td>\n",
       "      <td>...</td>\n",
       "      <td>...</td>\n",
       "      <td>...</td>\n",
       "    </tr>\n",
       "    <tr>\n",
       "      <th>167</th>\n",
       "      <td>0.0</td>\n",
       "      <td>38.0</td>\n",
       "      <td>0</td>\n",
       "      <td>-12.939083</td>\n",
       "      <td>6.395619</td>\n",
       "      <td>1</td>\n",
       "      <td>0</td>\n",
       "    </tr>\n",
       "    <tr>\n",
       "      <th>168</th>\n",
       "      <td>38.0</td>\n",
       "      <td>39.0</td>\n",
       "      <td>0</td>\n",
       "      <td>-12.939083</td>\n",
       "      <td>6.395619</td>\n",
       "      <td>1</td>\n",
       "      <td>1</td>\n",
       "    </tr>\n",
       "    <tr>\n",
       "      <th>169</th>\n",
       "      <td>0.0</td>\n",
       "      <td>31.0</td>\n",
       "      <td>0</td>\n",
       "      <td>1.516769</td>\n",
       "      <td>6.417522</td>\n",
       "      <td>0</td>\n",
       "      <td>0</td>\n",
       "    </tr>\n",
       "    <tr>\n",
       "      <th>170</th>\n",
       "      <td>0.0</td>\n",
       "      <td>11.0</td>\n",
       "      <td>0</td>\n",
       "      <td>-7.608487</td>\n",
       "      <td>6.472279</td>\n",
       "      <td>0</td>\n",
       "      <td>0</td>\n",
       "    </tr>\n",
       "    <tr>\n",
       "      <th>171</th>\n",
       "      <td>0.0</td>\n",
       "      <td>6.0</td>\n",
       "      <td>1</td>\n",
       "      <td>-8.684463</td>\n",
       "      <td>-0.049281</td>\n",
       "      <td>0</td>\n",
       "      <td>0</td>\n",
       "    </tr>\n",
       "  </tbody>\n",
       "</table>\n",
       "<p>172 rows × 7 columns</p>\n",
       "</div>"
      ],
      "text/plain": [
       "     start  stop  event        age      year  surgery  transplant\n",
       "0      0.0  50.0      1 -17.155373  0.123203        0           0\n",
       "1      0.0   6.0      1   3.835729  0.254620        0           0\n",
       "2      0.0   1.0      0   6.297057  0.265572        0           0\n",
       "3      1.0  16.0      1   6.297057  0.265572        0           1\n",
       "4      0.0  36.0      0  -7.737166  0.490075        0           0\n",
       "..     ...   ...    ...        ...       ...      ...         ...\n",
       "167    0.0  38.0      0 -12.939083  6.395619        1           0\n",
       "168   38.0  39.0      0 -12.939083  6.395619        1           1\n",
       "169    0.0  31.0      0   1.516769  6.417522        0           0\n",
       "170    0.0  11.0      0  -7.608487  6.472279        0           0\n",
       "171    0.0   6.0      1  -8.684463 -0.049281        0           0\n",
       "\n",
       "[172 rows x 7 columns]"
      ]
     },
     "execution_count": 2,
     "metadata": {},
     "output_type": "execute_result"
    }
   ],
   "source": [
    "# importing csv data\n",
    "heart = pd.read_csv('data/heart.csv', sep=';')\n",
    "surv = np.asarray(heart[['start', 'stop', 'event']])\n",
    "X = np.asarray(heart[['age', 'year', 'surgery', 'transplant']])\n",
    "#X = (X - np.mean(X, axis=0)) / np.std(X, axis=0)\n",
    "\n",
    "# transforming them to tensors\n",
    "surv = torch.from_numpy(surv)\n",
    "X = torch.from_numpy(X)\n",
    "\n",
    "heart"
   ]
  },
  {
   "cell_type": "markdown",
   "metadata": {},
   "source": [
    "## Opimizer:"
   ]
  },
  {
   "cell_type": "code",
   "execution_count": 3,
   "metadata": {},
   "outputs": [],
   "source": [
    "# optimizer\n",
    "parameters = X.shape[1]\n",
    "theta = torch.normal(0, 0.01, (parameters, 1), dtype=torch.float64, requires_grad=True)\n",
    "eta = 0.00\n",
    "lr = 0.01\n",
    "optimizer = torch.optim.Adam([theta], lr=lr)"
   ]
  },
  {
   "cell_type": "markdown",
   "metadata": {},
   "source": [
    "## Model fit:"
   ]
  },
  {
   "cell_type": "code",
   "execution_count": 6,
   "metadata": {},
   "outputs": [
    {
     "name": "stderr",
     "output_type": "stream",
     "text": [
      "100%|██████████| 1000/1000 [00:01<00:00, 516.26it/s]\n"
     ]
    }
   ],
   "source": [
    "for _ in tqdm.tqdm(range(1000)):\n",
    "    idx = np.random.choice(X.shape[0], 50, replace=True)\n",
    "    optimizer.zero_grad()\n",
    "    linpred = torch.mm(X, theta)\n",
    "    logL = -loglikelihood(surv, linpred) \n",
    "    logL.backward()\n",
    "    optimizer.step()\n"
   ]
  },
  {
   "cell_type": "code",
   "execution_count": 7,
   "metadata": {},
   "outputs": [
    {
     "name": "stdout",
     "output_type": "stream",
     "text": [
      "0.027152080764527135\n",
      "-0.14611575000260033\n",
      "-0.6358434755992775\n",
      "-0.011895850963813822\n"
     ]
    }
   ],
   "source": [
    "for ii in theta:\n",
    "    print(ii[0].detach().numpy())"
   ]
  },
  {
   "cell_type": "markdown",
   "metadata": {},
   "source": [
    "## Concordance"
   ]
  },
  {
   "cell_type": "code",
   "execution_count": 8,
   "metadata": {},
   "outputs": [
    {
     "data": {
      "text/plain": [
       "0.6355388360256694"
      ]
     },
     "execution_count": 8,
     "metadata": {},
     "output_type": "execute_result"
    }
   ],
   "source": [
    "concordance(surv.detach().numpy(), torch.mm(X, theta).detach().numpy())"
   ]
  },
  {
   "cell_type": "markdown",
   "metadata": {},
   "source": [
    "## Variance estimation\n",
    "\n",
    "- variance estiamtion is usualy done as an individual pass through the data after the model has been fit. \n",
    "- important here is to do it only once over the data - usefull to increase batch size. "
   ]
  },
  {
   "cell_type": "code",
   "execution_count": 9,
   "metadata": {},
   "outputs": [
    {
     "name": "stdout",
     "output_type": "stream",
     "text": [
      "tensor([0.0142, 0.0729, 0.3811, 0.3260], dtype=torch.float64)\n"
     ]
    }
   ],
   "source": [
    "# Fisher information\n",
    "# split into random data splits - emulate batch sampling\n",
    "kf = KFold(n_splits=int(np.round(heart.shape[0]/50)), shuffle=True)\n",
    "kf.get_n_splits(np.arange(X.shape[0]))\n",
    "\n",
    "F = np.zeros((X.shape[1],X.shape[1]))\n",
    "F = torch.from_numpy(F)\n",
    "with torch.no_grad():\n",
    "    for _, idx in kf.split(X):\n",
    "            linpred = torch.mm(X, theta)\n",
    "            F += Fisher(surv[idx], X[idx], linpred[idx])\n",
    "print(torch.diagonal(torch.sqrt(torch.inverse(F))))"
   ]
  },
  {
   "cell_type": "markdown",
   "metadata": {},
   "source": [
    "# R - Code\n",
    "- code to fit the same model in R\n",
    "- to compare model estimates "
   ]
  },
  {
   "cell_type": "markdown",
   "metadata": {},
   "source": [
    "rm(list=ls())\n",
    "library(survival)\n",
    "library(stargazer)\n",
    "\n",
    "data(\"heart\")\n",
    "heart\n",
    "\n",
    "heart <- heart[is.finite(rowSums(colon)),]\n",
    "\n",
    "names(heart)\n",
    "m1 = coxph(Surv(start, stop, event) ~age  + year + surgery + transplant, data=heart)\n",
    "summary(m1)"
   ]
  },
  {
   "cell_type": "code",
   "execution_count": null,
   "metadata": {},
   "outputs": [],
   "source": []
  }
 ],
 "metadata": {
  "kernelspec": {
   "display_name": "Python 3",
   "language": "python",
   "name": "python3"
  },
  "language_info": {
   "codemirror_mode": {
    "name": "ipython",
    "version": 3
   },
   "file_extension": ".py",
   "mimetype": "text/x-python",
   "name": "python",
   "nbconvert_exporter": "python",
   "pygments_lexer": "ipython3",
   "version": "3.7.6"
  }
 },
 "nbformat": 4,
 "nbformat_minor": 4
}
