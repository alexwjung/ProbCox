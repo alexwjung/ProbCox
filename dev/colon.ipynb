{
 "cells": [
  {
   "cell_type": "markdown",
   "metadata": {},
   "source": [
    "# TensorCox\n",
    "- example script to apply for a CSV file."
   ]
  },
  {
   "cell_type": "markdown",
   "metadata": {},
   "source": [
    "## Load modules:"
   ]
  },
  {
   "cell_type": "code",
   "execution_count": 1,
   "metadata": {},
   "outputs": [],
   "source": [
    "# import the necessary modules\n",
    "import sys\n",
    "import os\n",
    "import torch\n",
    "import tqdm\n",
    "\n",
    "import pandas as pd\n",
    "import numpy as np\n",
    "import matplotlib.pyplot as plt \n",
    "\n",
    "from torch.utils.data import DataLoader\n",
    "from sklearn.model_selection import KFold\n",
    "\n",
    "# set root directory\n",
    "# path to the folder\n",
    "dir_root = '/nfs/nobackup/gerstung/awj/projects/TensorCox_/'\n",
    "os.chdir(dir_root)\n",
    "\n",
    "# appends the path to the COX script \n",
    "sys.path.append(dir_root + 'TensorCox/')\n",
    "\n",
    "# import COX model\n",
    "from TensorCox import loglikelihood\n",
    "from TensorCox import Fisher\n",
    "from metrics import concordance\n",
    "from metrics import RMSE\n",
    "from dataloader import CSV_Dataset\n",
    "from dataloader import ToTensor\n",
    "from dataloader import custom_collate\n",
    "\n",
    "torch.manual_seed(7)\n",
    "np.random.seed(7)"
   ]
  },
  {
   "cell_type": "markdown",
   "metadata": {},
   "source": [
    "## Data:"
   ]
  },
  {
   "cell_type": "code",
   "execution_count": 2,
   "metadata": {},
   "outputs": [
    {
     "data": {
      "text/html": [
       "<div>\n",
       "<style scoped>\n",
       "    .dataframe tbody tr th:only-of-type {\n",
       "        vertical-align: middle;\n",
       "    }\n",
       "\n",
       "    .dataframe tbody tr th {\n",
       "        vertical-align: top;\n",
       "    }\n",
       "\n",
       "    .dataframe thead th {\n",
       "        text-align: right;\n",
       "    }\n",
       "</style>\n",
       "<table border=\"1\" class=\"dataframe\">\n",
       "  <thead>\n",
       "    <tr style=\"text-align: right;\">\n",
       "      <th></th>\n",
       "      <th>Unnamed: 0</th>\n",
       "      <th>sex</th>\n",
       "      <th>age</th>\n",
       "      <th>obstruct</th>\n",
       "      <th>perfor</th>\n",
       "      <th>adhere</th>\n",
       "      <th>nodes</th>\n",
       "      <th>status</th>\n",
       "      <th>differ</th>\n",
       "      <th>extent</th>\n",
       "      <th>surg</th>\n",
       "      <th>node4</th>\n",
       "      <th>time</th>\n",
       "      <th>etype</th>\n",
       "    </tr>\n",
       "  </thead>\n",
       "  <tbody>\n",
       "    <tr>\n",
       "      <th>0</th>\n",
       "      <td>1</td>\n",
       "      <td>1</td>\n",
       "      <td>43</td>\n",
       "      <td>0</td>\n",
       "      <td>0</td>\n",
       "      <td>0</td>\n",
       "      <td>5</td>\n",
       "      <td>1</td>\n",
       "      <td>2</td>\n",
       "      <td>3</td>\n",
       "      <td>0</td>\n",
       "      <td>1</td>\n",
       "      <td>1521</td>\n",
       "      <td>2</td>\n",
       "    </tr>\n",
       "    <tr>\n",
       "      <th>1</th>\n",
       "      <td>2</td>\n",
       "      <td>1</td>\n",
       "      <td>43</td>\n",
       "      <td>0</td>\n",
       "      <td>0</td>\n",
       "      <td>0</td>\n",
       "      <td>5</td>\n",
       "      <td>1</td>\n",
       "      <td>2</td>\n",
       "      <td>3</td>\n",
       "      <td>0</td>\n",
       "      <td>1</td>\n",
       "      <td>968</td>\n",
       "      <td>1</td>\n",
       "    </tr>\n",
       "    <tr>\n",
       "      <th>2</th>\n",
       "      <td>3</td>\n",
       "      <td>1</td>\n",
       "      <td>63</td>\n",
       "      <td>0</td>\n",
       "      <td>0</td>\n",
       "      <td>0</td>\n",
       "      <td>1</td>\n",
       "      <td>0</td>\n",
       "      <td>2</td>\n",
       "      <td>3</td>\n",
       "      <td>0</td>\n",
       "      <td>0</td>\n",
       "      <td>3087</td>\n",
       "      <td>2</td>\n",
       "    </tr>\n",
       "    <tr>\n",
       "      <th>3</th>\n",
       "      <td>4</td>\n",
       "      <td>1</td>\n",
       "      <td>63</td>\n",
       "      <td>0</td>\n",
       "      <td>0</td>\n",
       "      <td>0</td>\n",
       "      <td>1</td>\n",
       "      <td>0</td>\n",
       "      <td>2</td>\n",
       "      <td>3</td>\n",
       "      <td>0</td>\n",
       "      <td>0</td>\n",
       "      <td>3087</td>\n",
       "      <td>1</td>\n",
       "    </tr>\n",
       "    <tr>\n",
       "      <th>4</th>\n",
       "      <td>5</td>\n",
       "      <td>0</td>\n",
       "      <td>71</td>\n",
       "      <td>0</td>\n",
       "      <td>0</td>\n",
       "      <td>1</td>\n",
       "      <td>7</td>\n",
       "      <td>1</td>\n",
       "      <td>2</td>\n",
       "      <td>2</td>\n",
       "      <td>0</td>\n",
       "      <td>1</td>\n",
       "      <td>963</td>\n",
       "      <td>2</td>\n",
       "    </tr>\n",
       "    <tr>\n",
       "      <th>...</th>\n",
       "      <td>...</td>\n",
       "      <td>...</td>\n",
       "      <td>...</td>\n",
       "      <td>...</td>\n",
       "      <td>...</td>\n",
       "      <td>...</td>\n",
       "      <td>...</td>\n",
       "      <td>...</td>\n",
       "      <td>...</td>\n",
       "      <td>...</td>\n",
       "      <td>...</td>\n",
       "      <td>...</td>\n",
       "      <td>...</td>\n",
       "      <td>...</td>\n",
       "    </tr>\n",
       "    <tr>\n",
       "      <th>1771</th>\n",
       "      <td>1854</td>\n",
       "      <td>1</td>\n",
       "      <td>76</td>\n",
       "      <td>0</td>\n",
       "      <td>0</td>\n",
       "      <td>1</td>\n",
       "      <td>1</td>\n",
       "      <td>1</td>\n",
       "      <td>3</td>\n",
       "      <td>3</td>\n",
       "      <td>0</td>\n",
       "      <td>0</td>\n",
       "      <td>851</td>\n",
       "      <td>1</td>\n",
       "    </tr>\n",
       "    <tr>\n",
       "      <th>1772</th>\n",
       "      <td>1855</td>\n",
       "      <td>0</td>\n",
       "      <td>48</td>\n",
       "      <td>1</td>\n",
       "      <td>0</td>\n",
       "      <td>0</td>\n",
       "      <td>4</td>\n",
       "      <td>0</td>\n",
       "      <td>2</td>\n",
       "      <td>3</td>\n",
       "      <td>1</td>\n",
       "      <td>1</td>\n",
       "      <td>2072</td>\n",
       "      <td>2</td>\n",
       "    </tr>\n",
       "    <tr>\n",
       "      <th>1773</th>\n",
       "      <td>1856</td>\n",
       "      <td>0</td>\n",
       "      <td>48</td>\n",
       "      <td>1</td>\n",
       "      <td>0</td>\n",
       "      <td>0</td>\n",
       "      <td>4</td>\n",
       "      <td>0</td>\n",
       "      <td>2</td>\n",
       "      <td>3</td>\n",
       "      <td>1</td>\n",
       "      <td>1</td>\n",
       "      <td>2072</td>\n",
       "      <td>1</td>\n",
       "    </tr>\n",
       "    <tr>\n",
       "      <th>1774</th>\n",
       "      <td>1857</td>\n",
       "      <td>0</td>\n",
       "      <td>66</td>\n",
       "      <td>1</td>\n",
       "      <td>0</td>\n",
       "      <td>0</td>\n",
       "      <td>1</td>\n",
       "      <td>0</td>\n",
       "      <td>2</td>\n",
       "      <td>3</td>\n",
       "      <td>0</td>\n",
       "      <td>0</td>\n",
       "      <td>1820</td>\n",
       "      <td>2</td>\n",
       "    </tr>\n",
       "    <tr>\n",
       "      <th>1775</th>\n",
       "      <td>1858</td>\n",
       "      <td>0</td>\n",
       "      <td>66</td>\n",
       "      <td>1</td>\n",
       "      <td>0</td>\n",
       "      <td>0</td>\n",
       "      <td>1</td>\n",
       "      <td>0</td>\n",
       "      <td>2</td>\n",
       "      <td>3</td>\n",
       "      <td>0</td>\n",
       "      <td>0</td>\n",
       "      <td>1820</td>\n",
       "      <td>1</td>\n",
       "    </tr>\n",
       "  </tbody>\n",
       "</table>\n",
       "<p>1776 rows × 14 columns</p>\n",
       "</div>"
      ],
      "text/plain": [
       "      Unnamed: 0  sex  age  obstruct  perfor  adhere  nodes  status  differ  \\\n",
       "0              1    1   43         0       0       0      5       1       2   \n",
       "1              2    1   43         0       0       0      5       1       2   \n",
       "2              3    1   63         0       0       0      1       0       2   \n",
       "3              4    1   63         0       0       0      1       0       2   \n",
       "4              5    0   71         0       0       1      7       1       2   \n",
       "...          ...  ...  ...       ...     ...     ...    ...     ...     ...   \n",
       "1771        1854    1   76         0       0       1      1       1       3   \n",
       "1772        1855    0   48         1       0       0      4       0       2   \n",
       "1773        1856    0   48         1       0       0      4       0       2   \n",
       "1774        1857    0   66         1       0       0      1       0       2   \n",
       "1775        1858    0   66         1       0       0      1       0       2   \n",
       "\n",
       "      extent  surg  node4  time  etype  \n",
       "0          3     0      1  1521      2  \n",
       "1          3     0      1   968      1  \n",
       "2          3     0      0  3087      2  \n",
       "3          3     0      0  3087      1  \n",
       "4          2     0      1   963      2  \n",
       "...      ...   ...    ...   ...    ...  \n",
       "1771       3     0      0   851      1  \n",
       "1772       3     1      1  2072      2  \n",
       "1773       3     1      1  2072      1  \n",
       "1774       3     0      0  1820      2  \n",
       "1775       3     0      0  1820      1  \n",
       "\n",
       "[1776 rows x 14 columns]"
      ]
     },
     "execution_count": 2,
     "metadata": {},
     "output_type": "execute_result"
    }
   ],
   "source": [
    "colon = pd.read_csv('data/colon.csv', sep=',')\n",
    "surv = np.asarray(colon[['time', 'status']])\n",
    "surv = np.concatenate((np.zeros((surv.shape[0], 1)), surv), axis=1)\n",
    "X = np.asarray(colon[['sex', 'age', 'obstruct', 'perfor', 'adhere', 'nodes', 'differ', 'extent', 'surg', 'node4', 'etype']])\n",
    "X = (X - np.mean(X, axis=0)) / np.std(X, axis=0)\n",
    "\n",
    "surv = torch.from_numpy(surv)\n",
    "X = torch.from_numpy(X)\n",
    "\n",
    "colon"
   ]
  },
  {
   "cell_type": "code",
   "execution_count": null,
   "metadata": {},
   "outputs": [],
   "source": []
  },
  {
   "cell_type": "markdown",
   "metadata": {},
   "source": [
    "## Opimizer:"
   ]
  },
  {
   "cell_type": "code",
   "execution_count": 3,
   "metadata": {},
   "outputs": [],
   "source": [
    "# optimizer\n",
    "parameters = X.shape[1]\n",
    "theta = torch.normal(0, 0.01, (parameters, 1), dtype=torch.float64, requires_grad=True)\n",
    "eta = 0.00\n",
    "lr = 0.01\n",
    "optimizer = torch.optim.Adam([theta], lr=lr)"
   ]
  },
  {
   "cell_type": "markdown",
   "metadata": {},
   "source": [
    "## Model fit:"
   ]
  },
  {
   "cell_type": "code",
   "execution_count": 11,
   "metadata": {},
   "outputs": [
    {
     "name": "stderr",
     "output_type": "stream",
     "text": [
      "100%|██████████| 1000/1000 [00:03<00:00, 261.55it/s]\n"
     ]
    }
   ],
   "source": [
    "for _ in tqdm.tqdm(range(1000)):\n",
    "    idx = np.random.choice(X.shape[0], 50, replace=True)\n",
    "    optimizer.zero_grad()\n",
    "    linpred = torch.mm(X, theta)\n",
    "    logL = -loglikelihood(surv, linpred) \n",
    "    logL.backward()\n",
    "    optimizer.step()\n"
   ]
  },
  {
   "cell_type": "code",
   "execution_count": 12,
   "metadata": {},
   "outputs": [
    {
     "name": "stdout",
     "output_type": "stream",
     "text": [
      "-0.02436415253403657\n",
      "0.01894718134236788\n",
      "0.09089355211474821\n",
      "0.018971089020813195\n",
      "0.06309577340626127\n",
      "0.1480329617609747\n",
      "0.057251092182696674\n",
      "0.21622182313266458\n",
      "0.11753246137106388\n",
      "0.2757621682045679\n",
      "-0.12840411066624036\n"
     ]
    }
   ],
   "source": [
    "for ii in theta:\n",
    "    print(ii[0].detach().numpy())"
   ]
  },
  {
   "cell_type": "markdown",
   "metadata": {},
   "source": [
    "## Variance estimation"
   ]
  },
  {
   "cell_type": "code",
   "execution_count": 13,
   "metadata": {},
   "outputs": [
    {
     "name": "stdout",
     "output_type": "stream",
     "text": [
      "tensor([0.0347, 0.0354, 0.0341, 0.0321, 0.0335, 0.0407, 0.0364, 0.0412, 0.0337,\n",
      "        0.0468, 0.0345], dtype=torch.float64)\n"
     ]
    }
   ],
   "source": [
    "# Fisher information\n",
    "# split into random data splits - emulate batch sampling\n",
    "kf = KFold(n_splits=int(np.round(colon.shape[0]/50)), shuffle=True)\n",
    "kf.get_n_splits(np.arange(X.shape[0]))\n",
    "\n",
    "A = np.zeros((X.shape[1],X.shape[1]))\n",
    "A = torch.from_numpy(A)\n",
    "with torch.no_grad():\n",
    "    for _, idx in kf.split(X):\n",
    "            linpred = torch.mm(X, theta)\n",
    "            A += Fisher(surv[idx], X[idx], linpred[idx])\n",
    "print(torch.diagonal(torch.sqrt(torch.inverse(A))))"
   ]
  },
  {
   "cell_type": "code",
   "execution_count": 14,
   "metadata": {},
   "outputs": [],
   "source": [
    "# Concordance"
   ]
  },
  {
   "cell_type": "code",
   "execution_count": 15,
   "metadata": {},
   "outputs": [
    {
     "data": {
      "text/plain": [
       "0.6661688241786037"
      ]
     },
     "execution_count": 15,
     "metadata": {},
     "output_type": "execute_result"
    }
   ],
   "source": [
    "concordance(surv.detach().numpy(), torch.mm(X, theta).detach().numpy())"
   ]
  },
  {
   "cell_type": "markdown",
   "metadata": {},
   "source": [
    "# R code: "
   ]
  },
  {
   "cell_type": "markdown",
   "metadata": {},
   "source": [
    "rm(list=ls())\n",
    "library(survival)\n",
    "library(stargazer)\n",
    "\n",
    "data(\"colon\")\n",
    "colon\n",
    "\n",
    "colon = colon[ , 4:16]\n",
    "colon <- colon[is.finite(rowSums(colon)),]\n",
    "\n",
    "write.csv(colon, '/Users/awj/Desktop/colon.csv', sep=';')\n",
    "\n",
    "standardize <- function(x){\n",
    "  (x - mean(x))/sqrt(var(x))\n",
    "}\n",
    "\n",
    "colon[ , c(1, 2, 3, 4, 5, 6, 8, 9, 10, 11, 13)] = apply(colon[ , c(1, 2, 3, 4, 5, 6, 8, 9, 10, 11, 13)], 2, standardize)\n",
    "\n",
    "names(colon)\n",
    "m1 = coxph(Surv(time, status) ~ sex + age  + obstruct + perfor + adhere  + nodes + differ + extent + surg + node4 + etype, data=colon)\n",
    "summary(m1)"
   ]
  },
  {
   "cell_type": "code",
   "execution_count": null,
   "metadata": {},
   "outputs": [],
   "source": []
  }
 ],
 "metadata": {
  "kernelspec": {
   "display_name": "Python 3",
   "language": "python",
   "name": "python3"
  },
  "language_info": {
   "codemirror_mode": {
    "name": "ipython",
    "version": 3
   },
   "file_extension": ".py",
   "mimetype": "text/x-python",
   "name": "python",
   "nbconvert_exporter": "python",
   "pygments_lexer": "ipython3",
   "version": "3.7.6"
  }
 },
 "nbformat": 4,
 "nbformat_minor": 4
}
