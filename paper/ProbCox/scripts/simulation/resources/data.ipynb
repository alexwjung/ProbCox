{
 "cells": [
  {
   "cell_type": "code",
   "execution_count": 2,
   "id": "obvious-story",
   "metadata": {},
   "outputs": [
    {
     "data": {
      "text/plain": [
       "<torch._C.Generator at 0x2b00bf085690>"
      ]
     },
     "execution_count": 2,
     "metadata": {},
     "output_type": "execute_result"
    }
   ],
   "source": [
    "# Modules\n",
    "# =======================================================================================================================\n",
    "import os\n",
    "import sys\n",
    "import shutil\n",
    "import subprocess\n",
    "import tqdm\n",
    "\n",
    "import numpy as np\n",
    "import pandas as pd\n",
    "\n",
    "import torch\n",
    "from torch.distributions import constraints\n",
    "\n",
    "import pyro\n",
    "import pyro.distributions as dist\n",
    "\n",
    "from pyro.infer import SVI, Trace_ELBO\n",
    "\n",
    "import matplotlib.pyplot as plt\n",
    "\n",
    "import warnings\n",
    "warnings.filterwarnings(\"ignore\")\n",
    "\n",
    "import probcox as pcox\n",
    "\n",
    "dtype = torch.FloatTensor\n",
    "\n",
    "np.random.seed(9044)\n",
    "torch.manual_seed(8734)\n"
   ]
  },
  {
   "cell_type": "code",
   "execution_count": 3,
   "id": "forbidden-change",
   "metadata": {},
   "outputs": [],
   "source": [
    "# Simulation - 10 Significant covariates\n",
    "# =======================================================================================================================\n",
    "def simulate(I, P):\n",
    "      P_binary = int(P/2)\n",
    "      P_continuous = int(P/2)\n",
    "      theta = np.random.normal(0, 0.5, (10, 1))\n",
    "      theta = np.concatenate((theta[:5], np.zeros((int(P/2-5), 1)), theta[5:], np.zeros((int(P/2-5), 1))))\n",
    "      scale = 2  # Scaling factor for Baseline Hazard\n",
    "\n",
    "      # Class for simulation\n",
    "      TVC = pcox.TVC(theta=theta, P_binary=P_binary, P_continuous=P_continuous, dtype=dtype)\n",
    "\n",
    "      # Sample baseline hazard - scale is set to define censorship/events\n",
    "      TVC.make_lambda0(scale=scale)\n",
    "\n",
    "      # Sample Data \n",
    "      surv = torch.zeros((0, 3))\n",
    "      X = torch.zeros((0, P))\n",
    "      for __ in tqdm.tqdm(range(I)):\n",
    "          a, b = TVC.sample()\n",
    "          surv = torch.cat((surv, a))\n",
    "          X = torch.cat((X, b))\n",
    "      return(surv, X, theta)"
   ]
  },
  {
   "cell_type": "code",
   "execution_count": 7,
   "id": "lovely-silicon",
   "metadata": {},
   "outputs": [
    {
     "data": {
      "text/plain": [
       "\"\\nrd = pd.DataFrame(np.concatenate((surv.detach().numpy(), X.detach().numpy()), axis=1))\\nrd.columns = ['V' + str(ii) for ii in range(1, rd.shape[1]+1)]\\nrd.to_csv('/nfs/nobackup/gerstung/awj/projects/ProbCox/compute/data/' + 'I16000_P3200.csv', index=False)\\n\""
      ]
     },
     "execution_count": 7,
     "metadata": {},
     "output_type": "execute_result"
    }
   ],
   "source": [
    "pyro.clear_param_store()\n",
    "np.random.seed(9044)\n",
    "torch.manual_seed(8734)\n",
    "surv, X, theta = simulate(I=16000, P=3200)\n",
    "rd = pd.DataFrame(np.concatenate((surv.detach().numpy(), X.detach().numpy()), axis=1))\n",
    "rd.columns = ['V' + str(ii) for ii in range(1, rd.shape[1]+1)]\n",
    "rd.to_csv('/nfs/nobackup/gerstung/awj/projects/ProbCox/compute/data/' + 'I16000_P3200.csv', index=False)"
   ]
  },
  {
   "cell_type": "code",
   "execution_count": 8,
   "id": "medium-sweden",
   "metadata": {},
   "outputs": [],
   "source": [
    "pyro.clear_param_store()\n",
    "np.random.seed(567)\n",
    "torch.manual_seed(324)\n",
    "surv, X, theta = simulate(I=8000, P=1600)\n",
    "rd = pd.DataFrame(np.concatenate((surv.detach().numpy(), X.detach().numpy()), axis=1))\n",
    "rd.columns = ['V' + str(ii) for ii in range(1, rd.shape[1]+1)]\n",
    "rd.to_csv('/nfs/nobackup/gerstung/awj/projects/ProbCox/compute/data/' + 'I8000_P1600.csv', index=False)"
   ]
  },
  {
   "cell_type": "code",
   "execution_count": 9,
   "id": "large-polymer",
   "metadata": {},
   "outputs": [],
   "source": [
    "pyro.clear_param_store()\n",
    "np.random.seed(546)\n",
    "torch.manual_seed(435)\n",
    "surv, X, theta = simulate(I=4000, P=800)\n",
    "rd = pd.DataFrame(np.concatenate((surv.detach().numpy(), X.detach().numpy()), axis=1))\n",
    "rd.columns = ['V' + str(ii) for ii in range(1, rd.shape[1]+1)]\n",
    "rd.to_csv('/nfs/nobackup/gerstung/awj/projects/ProbCox/compute/data/' + 'I4000_P800.csv', index=False)"
   ]
  },
  {
   "cell_type": "code",
   "execution_count": 10,
   "id": "portuguese-company",
   "metadata": {},
   "outputs": [],
   "source": [
    "pyro.clear_param_store()\n",
    "np.random.seed(789)\n",
    "torch.manual_seed(435)\n",
    "surv, X, theta = simulate(I=2000, P=400)\n",
    "rd = pd.DataFrame(np.concatenate((surv.detach().numpy(), X.detach().numpy()), axis=1))\n",
    "rd.columns = ['V' + str(ii) for ii in range(1, rd.shape[1]+1)]\n",
    "rd.to_csv('/nfs/nobackup/gerstung/awj/projects/ProbCox/compute/data/' + 'I2000_P400.csv', index=False)"
   ]
  },
  {
   "cell_type": "code",
   "execution_count": 11,
   "id": "sought-lloyd",
   "metadata": {},
   "outputs": [],
   "source": [
    "pyro.clear_param_store()\n",
    "np.random.seed(123)\n",
    "torch.manual_seed(345)\n",
    "surv, X, theta = simulate(I=1000, P=200)\n",
    "rd = pd.DataFrame(np.concatenate((surv.detach().numpy(), X.detach().numpy()), axis=1))\n",
    "rd.columns = ['V' + str(ii) for ii in range(1, rd.shape[1]+1)]\n",
    "rd.to_csv('/nfs/nobackup/gerstung/awj/projects/ProbCox/compute/data/' + 'I1000_P200.csv', index=False)"
   ]
  },
  {
   "cell_type": "code",
   "execution_count": null,
   "id": "labeled-newport",
   "metadata": {},
   "outputs": [],
   "source": []
  },
  {
   "cell_type": "code",
   "execution_count": null,
   "id": "solid-cause",
   "metadata": {},
   "outputs": [],
   "source": []
  },
  {
   "cell_type": "code",
   "execution_count": null,
   "id": "thick-titanium",
   "metadata": {},
   "outputs": [],
   "source": []
  },
  {
   "cell_type": "code",
   "execution_count": null,
   "id": "exempt-basement",
   "metadata": {},
   "outputs": [],
   "source": []
  },
  {
   "cell_type": "code",
   "execution_count": null,
   "id": "running-concentration",
   "metadata": {},
   "outputs": [],
   "source": []
  }
 ],
 "metadata": {
  "kernelspec": {
   "display_name": "Python 3",
   "language": "python",
   "name": "python3"
  },
  "language_info": {
   "codemirror_mode": {
    "name": "ipython",
    "version": 3
   },
   "file_extension": ".py",
   "mimetype": "text/x-python",
   "name": "python",
   "nbconvert_exporter": "python",
   "pygments_lexer": "ipython3",
   "version": "3.7.8"
  }
 },
 "nbformat": 4,
 "nbformat_minor": 5
}
