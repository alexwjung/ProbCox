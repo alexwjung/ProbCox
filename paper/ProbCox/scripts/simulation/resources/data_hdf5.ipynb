{
 "cells": [
  {
   "cell_type": "code",
   "execution_count": 22,
   "id": "abroad-aging",
   "metadata": {},
   "outputs": [
    {
     "data": {
      "text/plain": [
       "<torch._C.Generator at 0x2b429f94dc90>"
      ]
     },
     "execution_count": 22,
     "metadata": {},
     "output_type": "execute_result"
    }
   ],
   "source": [
    "# Modules\n",
    "# =======================================================================================================================\n",
    "import os\n",
    "import sys\n",
    "import shutil\n",
    "import subprocess\n",
    "import tqdm\n",
    "import h5py\n",
    "\n",
    "import numpy as np\n",
    "import pandas as pd\n",
    "\n",
    "import torch\n",
    "from torch.distributions import constraints\n",
    "\n",
    "import pyro\n",
    "import pyro.distributions as dist\n",
    "\n",
    "from pyro.infer import SVI, Trace_ELBO\n",
    "\n",
    "import matplotlib.pyplot as plt\n",
    "\n",
    "import warnings\n",
    "warnings.filterwarnings(\"ignore\")\n",
    "\n",
    "import probcox as pcox\n",
    "\n",
    "dtype = torch.FloatTensor\n",
    "\n",
    "np.random.seed(9044)\n",
    "torch.manual_seed(8734)\n"
   ]
  },
  {
   "cell_type": "code",
   "execution_count": 27,
   "id": "surface-heading",
   "metadata": {},
   "outputs": [],
   "source": [
    "# Transform to HDF5\n",
    "# =======================================================================================================================\n",
    "\n",
    "dd = pd.read_csv('/nfs/nobackup/gerstung/awj/projects/ProbCox/compute/data/' + 'I16000_P3200' + '.csv')\n",
    "surv = np.asarray(dd.iloc[:, :3]).astype(float)\n",
    "X = np.asarray(dd.iloc[:, 3:]).astype(float)\n",
    "\n",
    "with h5py.File('/nfs/nobackup/gerstung/awj/projects/ProbCox/compute/data/I16000_P3200.h5', 'w') as f:\n",
    "    f.create_dataset(\"surv\", data=surv)\n",
    "    f.create_dataset(\"X\", data=X)\n"
   ]
  },
  {
   "cell_type": "code",
   "execution_count": null,
   "id": "characteristic-capitol",
   "metadata": {},
   "outputs": [],
   "source": []
  }
 ],
 "metadata": {
  "kernelspec": {
   "display_name": "Python 3",
   "language": "python",
   "name": "python3"
  },
  "language_info": {
   "codemirror_mode": {
    "name": "ipython",
    "version": 3
   },
   "file_extension": ".py",
   "mimetype": "text/x-python",
   "name": "python",
   "nbconvert_exporter": "python",
   "pygments_lexer": "ipython3",
   "version": "3.7.8"
  }
 },
 "nbformat": 4,
 "nbformat_minor": 5
}
